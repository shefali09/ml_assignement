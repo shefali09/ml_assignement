{
 "cells": [
  {
   "cell_type": "markdown",
   "id": "c7f86cb3",
   "metadata": {},
   "source": [
    "### Description\n",
    "##### The following code takes in the input file where there is a property description and uses 2 functions find_airport_station_bus_with_index and finding_distance to find the distance from the airport/railway/bus\n",
    "\n",
    "### Approach : \n",
    "\n",
    "##### 1. Find list of airports, railway station and bus stand by using spacy pre-trained NER model along with its index in the property description\n",
    "##### 2. Use the list and index to traverse right or left of the string :\n",
    "###### a) Find the word in the description , if the word to the left of the listed airport/railway station/bus stand is \"from\" then based where the word km/m/meters/miles is present take the number just beside that. \n",
    "###### b) Find the word in the description , if the word to the right of the listed airport/railway station/bus stand is \"is\" then based where the word km/m/meters/miles is present take the number just beside that."
   ]
  },
  {
   "cell_type": "markdown",
   "id": "31882cac",
   "metadata": {},
   "source": [
    "### Other Approaches\n",
    "##### 1. keyword based : find the relevant word like airport,railway,junction,bus in the normalized description, Go right or left based keyword is,from and check if there is km,m,meters,miles in the vicinity of these words, return the numbers found before km,m,meters,miles etc\n",
    "##### 2. Train NER model with Airport name,Railway Station and Bus Stop as an entity and then use it to find airports given a sentence\n",
    "\n",
    "### Challenges with current approach: \n",
    "##### 0. Uses Spacy pre-trained NER model which may not be able to give all the airports/railway station and bus stand\n",
    "##### 1. Rule based method which may not be 100% right\n",
    "##### 2. Slow Execution Speed [need work on optimizing the solution]\n",
    "##### 3. Only capture cases where it satisfies the rule\n"
   ]
  },
  {
   "cell_type": "markdown",
   "id": "fc3eacf5",
   "metadata": {},
   "source": [
    "### Importing Libraries"
   ]
  },
  {
   "cell_type": "code",
   "execution_count": 1,
   "id": "573a883c",
   "metadata": {},
   "outputs": [],
   "source": [
    "import pandas as pd\n",
    "import spacy\n",
    "import re\n",
    "import string\n",
    "\n",
    "nlp = spacy.load('en_core_web_lg')"
   ]
  },
  {
   "cell_type": "markdown",
   "id": "25dc024d",
   "metadata": {},
   "source": [
    "### Reading Data"
   ]
  },
  {
   "cell_type": "code",
   "execution_count": 2,
   "id": "3589be95",
   "metadata": {},
   "outputs": [],
   "source": [
    "df = pd.read_csv('assignment_hotel_training.csv')"
   ]
  },
  {
   "cell_type": "markdown",
   "id": "01708049",
   "metadata": {},
   "source": [
    "### Functions for finding the distance"
   ]
  },
  {
   "cell_type": "code",
   "execution_count": 7,
   "id": "e25fe297",
   "metadata": {},
   "outputs": [],
   "source": [
    "### List of facilities coming from description using spacy pre-trained ner model\n",
    "def find_airport_station_bus_with_index(description):\n",
    "    tagging_word = []\n",
    "    text1 = nlp(description)\n",
    "    for word in text1.ents:\n",
    "        if word.label_ == 'FAC' and ('airport' in word.text.lower() or 'railway' in word.text.lower() or 'junction' in word.text.lower() or 'bus' in word.text.lower()):\n",
    "            tagging_word.append(word.text)\n",
    "        else:\n",
    "            continue\n",
    "            \n",
    "    res = {key: [description.index(key), description.index(key) + len(key) - 1]\n",
    "           for key in tagging_word if ' '+key+'' in description}\n",
    "                        \n",
    "    return res\n",
    "\n",
    "\n",
    "### Rule based method of finding the distance of airport/railway/bus from the description : input is the result coming from function find_airport_station_bus_with_index and the property description\n",
    "def finding_distance(facilities_with_index,description):\n",
    "    distance = {}\n",
    "    for key in facilities_with_index:\n",
    "        if 'airport' in key.lower():\n",
    "            try:\n",
    "                left = description[:facilities_with_index[key][0]].strip().split()\n",
    "                right = description[facilities_with_index[key][1]+1:].strip().split()\n",
    "                if left[-1] == 'from':\n",
    "                    if any(i in ' '+left[-2].strip()+' ' for i in [' km ',' m ',' miles ',' kms ',' meters ']): \n",
    "                        distance['airport'] = left[-3]+left[-2]\n",
    "                    elif any(i in ' '+pre_processing_words(left[-3].strip())+' ' for i in [' km ',' m ',' miles ',' meters ',' kms ']):\n",
    "                        distance['airport'] = left[-4]+left[-3]\n",
    "                    else:\n",
    "                        continue\n",
    "                        \n",
    "                elif right[0] == 'is':\n",
    "                    if any(i in ' '+right[2].strip()+' ' for i in [' km ',' m ',' miles ',' meters ']):\n",
    "                        distance['airport'] = right[1]+right[2]\n",
    "                    elif any(i in ' '+right[3].strip()+' ' for i in [' km ',' m ',' miles ','kms',' meters ']):\n",
    "                        distance['airport'] = right[2]+right[3]\n",
    "        \n",
    "                else:\n",
    "                    continue\n",
    "            \n",
    "            except:\n",
    "                distance = distance\n",
    "        \n",
    "        elif 'railway' in key.lower() or 'junction' in key.lower():\n",
    "            try:\n",
    "                left = description[:facilities_with_index[key][0]].strip().split()\n",
    "                right = description[facilities_with_index[key][1]+1:].strip().split()\n",
    "                if left[-1] == 'from':\n",
    "                    if any(i in ' '+left[-2].strip()+' ' for i in [' km ',' m ',' miles ',' kms ',' meters ']): \n",
    "                        distance['railway'] = left[-3]+left[-2]\n",
    "                    elif any(i in ' '+pre_processing_words(left[-3].strip())+' ' for i in [' km ',' m ',' miles ',' meters ',' kms ']):\n",
    "                        distance['railway'] = left[-4]+left[-3]\n",
    "                    else:\n",
    "                        continue\n",
    "                        \n",
    "                elif right[0] == 'is':\n",
    "                    if any(i in ' '+right[2].strip()+' ' for i in [' km ',' m ',' miles ',' meters ']):\n",
    "                        distance['railway'] = right[1]+right[2]\n",
    "                    elif any(i in ' '+right[3].strip()+' ' for i in [' km ',' m ',' miles ','kms',' meters ']):\n",
    "                        distance['railway'] = right[2]+right[3]\n",
    "        \n",
    "                else:\n",
    "                    continue\n",
    "            \n",
    "            except:\n",
    "                distance = distance\n",
    "                \n",
    "        elif 'bus' in key.lower():\n",
    "            try:\n",
    "                left = description[:facilities_with_index[key][0]].strip().split()\n",
    "                right = description[facilities_with_index[key][1]+1:].strip().split()\n",
    "                if left[-1] == 'from':\n",
    "                    if any(i in ' '+left[-2].strip()+' ' for i in [' km ',' m ',' miles ',' kms ',' meters ']): \n",
    "                        distance['bus'] = left[-3]+left[-2]\n",
    "                    elif any(i in ' '+pre_processing_words(left[-3].strip())+' ' for i in [' km ',' m ',' miles ',' meters ',' kms ']):\n",
    "                        distance['bus'] = left[-4]+left[-3]\n",
    "                    else:\n",
    "                        continue\n",
    "                        \n",
    "                elif right[0] == 'is':\n",
    "                    if any(i in ' '+right[2].strip()+' ' for i in [' km ',' m ',' miles ',' meters ']):\n",
    "                        distance['bus'] = right[1]+right[2]\n",
    "                    elif any(i in ' '+right[3].strip()+' ' for i in [' km ',' m ',' miles ','kms',' meters ']):\n",
    "                        distance['bus'] = right[2]+right[3]\n",
    "        \n",
    "                else:\n",
    "                    continue\n",
    "            \n",
    "            except:\n",
    "                distance = distance\n",
    "                           \n",
    "    return distance"
   ]
  },
  {
   "cell_type": "code",
   "execution_count": 8,
   "id": "5c6987f6",
   "metadata": {},
   "outputs": [
    {
     "name": "stdout",
     "output_type": "stream",
     "text": [
      "0:08:44.389596\n"
     ]
    }
   ],
   "source": [
    "### Pandas apply function on the complete dataset to find the distance\n",
    "import datetime\n",
    "t1 = datetime.datetime.now()\n",
    "df['distance_metrics'] = df.property_description.apply(lambda x : finding_distance(find_airport_station_bus_with_index(x),x))\n",
    "t2 = datetime.datetime.now()\n",
    "\n",
    "print(t2-t1)\n",
    "\n",
    "### Separating the dictionary into multiple columns\n",
    "df['distance_from_airport'] = df['distance_metrics'].apply(lambda x : x['airport'] if 'airport' in x.keys() else '')\n",
    "df['distance_from_railway'] = df['distance_metrics'].apply(lambda x : x['railway'] if 'railway' in x.keys() else '')\n",
    "df['distance_from_bus'] = df['distance_metrics'].apply(lambda x : x['bus'] if 'bus' in x.keys() else '')"
   ]
  },
  {
   "cell_type": "code",
   "execution_count": 16,
   "id": "ee607ed6",
   "metadata": {},
   "outputs": [
    {
     "data": {
      "text/plain": [
       "45.074285714285715"
      ]
     },
     "execution_count": 16,
     "metadata": {},
     "output_type": "execute_result"
    }
   ],
   "source": [
    "## This algorithm was able to extract airport/railway/bus distance for 45% of the data provided\n",
    "(df[df.distance_metrics != {}].shape[0]/df.shape[0])*100"
   ]
  },
  {
   "cell_type": "code",
   "execution_count": 18,
   "id": "8020258b",
   "metadata": {},
   "outputs": [],
   "source": [
    "df.to_csv('property_description_with_amenities_with_distance_metrics.tsv',sep = '\\t')"
   ]
  },
  {
   "cell_type": "code",
   "execution_count": null,
   "id": "9471ce5c",
   "metadata": {},
   "outputs": [],
   "source": []
  }
 ],
 "metadata": {
  "kernelspec": {
   "display_name": "Python 3 (ipykernel)",
   "language": "python",
   "name": "python3"
  },
  "language_info": {
   "codemirror_mode": {
    "name": "ipython",
    "version": 3
   },
   "file_extension": ".py",
   "mimetype": "text/x-python",
   "name": "python",
   "nbconvert_exporter": "python",
   "pygments_lexer": "ipython3",
   "version": "3.10.3"
  }
 },
 "nbformat": 4,
 "nbformat_minor": 5
}
