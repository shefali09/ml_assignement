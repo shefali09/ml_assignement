{
 "cells": [
  {
   "cell_type": "markdown",
   "id": "fd391ec0",
   "metadata": {},
   "source": [
    "### Description : \n",
    "##### Given a property decription , find out amenities from description\n",
    "\n",
    "### Approach :\n",
    "##### 1. Create a list of unique amenities which was created in Question 1 , here we are creating a dictionary with processed amenities as key and the raw amenity as value\n",
    "##### 2. Given a description , pre-process the description by rremoving punctuation, extra spaces, lowering, stripping extra spaces , removing stop words and lemmatization\n",
    "##### 3. Function extracting_amenities searches all possible amenities in the processed description and find out the amenities present in the description\n",
    "\n",
    "### Evaluation :\n",
    "##### 1 . From each data point we find how many amenities are matching with the given list of amenities and depending on that we find score for each row and average them overall , the value range from 0-1 , more the score more would be the accuracy of the model.\n",
    "##### 2. Second approach of measurement is , for each amenity in the amenities predicted , find out if same or similar amenity is present in the actual list , like in approach 1 , more the score more would be the accuracy.\n",
    "\n",
    "### Other Approaches :\n",
    "##### 1. In the current method , I am directly listing if any of the amenity is present in the description , we could try n-grams from amenities to match the description to get more exhaustive list of amenities from description.\n",
    "##### 2. Training a custom NER where we tag amenities to the description and call the entity as AMEN and train a Custom NER model.\n",
    "\n",
    "### Challenges with this approach :\n",
    "##### 1. For this method to work , we would need to keep on updating the amenity list\n",
    "##### 2. If there is a totally new word in the description this method won't be able to identify that as its is searching from a given list of amenity\n",
    "##### 3. Data Challenges : Amenities mentioned in the given data are not mentioned at all sometimes in the description. Hard to evaluate how this rule based method performs.\n"
   ]
  },
  {
   "cell_type": "markdown",
   "id": "9502519f",
   "metadata": {},
   "source": [
    "### Importing Libraries"
   ]
  },
  {
   "cell_type": "code",
   "execution_count": 1,
   "id": "adbb27c2",
   "metadata": {},
   "outputs": [],
   "source": [
    "import pandas as pd\n",
    "import re\n",
    "import string\n",
    "from nltk.corpus import stopwords\n",
    "from nltk.stem import WordNetLemmatizer\n",
    "import numpy as np\n",
    "import pickle\n",
    " \n",
    "lemmatizer = WordNetLemmatizer()"
   ]
  },
  {
   "cell_type": "markdown",
   "id": "c1ad5fd9",
   "metadata": {},
   "source": [
    "### Reading Data and All Unique Amenities from previous problem"
   ]
  },
  {
   "cell_type": "code",
   "execution_count": 2,
   "id": "9cb058b2",
   "metadata": {},
   "outputs": [],
   "source": [
    "df = pd.read_csv('assignment_hotel_training.csv')\n",
    "all_amenities_df = pd.read_csv('similar_words_thresh85_processed_amenities_v2.csv')\n",
    "all_amenities = list(all_amenities_df['Unnamed: 0'])"
   ]
  },
  {
   "cell_type": "code",
   "execution_count": 3,
   "id": "ccda518b",
   "metadata": {},
   "outputs": [
    {
     "data": {
      "text/html": [
       "<div>\n",
       "<style scoped>\n",
       "    .dataframe tbody tr th:only-of-type {\n",
       "        vertical-align: middle;\n",
       "    }\n",
       "\n",
       "    .dataframe tbody tr th {\n",
       "        vertical-align: top;\n",
       "    }\n",
       "\n",
       "    .dataframe thead th {\n",
       "        text-align: right;\n",
       "    }\n",
       "</style>\n",
       "<table border=\"1\" class=\"dataframe\">\n",
       "  <thead>\n",
       "    <tr style=\"text-align: right;\">\n",
       "      <th></th>\n",
       "      <th>hotel_ameneties</th>\n",
       "      <th>property_description</th>\n",
       "    </tr>\n",
       "  </thead>\n",
       "  <tbody>\n",
       "    <tr>\n",
       "      <th>0</th>\n",
       "      <td>Hot &amp; Cold water|Credit cards accepted|Airpor...</td>\n",
       "      <td>New Soul Kiss Group of Houseboats |New Soul Ki...</td>\n",
       "    </tr>\n",
       "    <tr>\n",
       "      <th>1</th>\n",
       "      <td>Hot/cold Water |Parking Facility| Shower Area...</td>\n",
       "      <td>Hotel Raj International |Hotel Raj Internation...</td>\n",
       "    </tr>\n",
       "    <tr>\n",
       "      <th>2</th>\n",
       "      <td>Backup generator|Indoor Multi Cuisine Restaura...</td>\n",
       "      <td>Avisa Nila Beach Resort | Avisa Nila Beach Res...</td>\n",
       "    </tr>\n",
       "    <tr>\n",
       "      <th>3</th>\n",
       "      <td>Business centre|WiFiBathroom Toiletries |Baker...</td>\n",
       "      <td>Mayflower Hotel |Occupying a prime location on...</td>\n",
       "    </tr>\n",
       "    <tr>\n",
       "      <th>4</th>\n",
       "      <td>Dining Table|Geyser In Bathroom|Bathroom Toile...</td>\n",
       "      <td>The Zara Residency Hotel Located in the heart ...</td>\n",
       "    </tr>\n",
       "  </tbody>\n",
       "</table>\n",
       "</div>"
      ],
      "text/plain": [
       "                                     hotel_ameneties  \\\n",
       "0   Hot & Cold water|Credit cards accepted|Airpor...   \n",
       "1   Hot/cold Water |Parking Facility| Shower Area...   \n",
       "2  Backup generator|Indoor Multi Cuisine Restaura...   \n",
       "3  Business centre|WiFiBathroom Toiletries |Baker...   \n",
       "4  Dining Table|Geyser In Bathroom|Bathroom Toile...   \n",
       "\n",
       "                                property_description  \n",
       "0  New Soul Kiss Group of Houseboats |New Soul Ki...  \n",
       "1  Hotel Raj International |Hotel Raj Internation...  \n",
       "2  Avisa Nila Beach Resort | Avisa Nila Beach Res...  \n",
       "3  Mayflower Hotel |Occupying a prime location on...  \n",
       "4  The Zara Residency Hotel Located in the heart ...  "
      ]
     },
     "execution_count": 3,
     "metadata": {},
     "output_type": "execute_result"
    }
   ],
   "source": [
    "df.head()"
   ]
  },
  {
   "cell_type": "markdown",
   "id": "3b547197",
   "metadata": {},
   "source": [
    "### Processing function"
   ]
  },
  {
   "cell_type": "code",
   "execution_count": 4,
   "id": "1b38ae7f",
   "metadata": {},
   "outputs": [],
   "source": [
    "regex = re.compile('[%s]' % re.escape(string.punctuation))\n",
    "def pre_processing_words(sent):\n",
    "    ## Removing punctuations, extra spaces, striping , lowering, removing stop words, lemmatize\n",
    "    new_sent = regex.sub(' ', sent)\n",
    "    new_sent = re.sub(' +',' ',new_sent).strip().lower()\n",
    "    text_tokens = new_sent.split()\n",
    "    tokens_without_sw = [lemmatizer.lemmatize(word) for word in text_tokens if not word in stopwords.words('english')]\n",
    "    final_sent = ' '.join(tokens_without_sw)\n",
    "    \n",
    "    return final_sent"
   ]
  },
  {
   "cell_type": "code",
   "execution_count": 5,
   "id": "3ef07690",
   "metadata": {},
   "outputs": [],
   "source": [
    "## Putting all amenities to a dictionary where key is processed amenity and its corresponding ammenity\n",
    "amenities_dict = {}\n",
    "for amen in all_amenities:\n",
    "    k = pre_processing_words(amen)\n",
    "    amenities_dict[k] = amen"
   ]
  },
  {
   "cell_type": "code",
   "execution_count": 6,
   "id": "691ebbd0",
   "metadata": {},
   "outputs": [],
   "source": [
    "with open('amenities_dictionary.pkl', 'wb') as f:\n",
    "    pickle.dump(amenities_dict, f)"
   ]
  },
  {
   "cell_type": "markdown",
   "id": "cf7627bc",
   "metadata": {},
   "source": [
    "### Logic to find amenities in description "
   ]
  },
  {
   "cell_type": "code",
   "execution_count": 7,
   "id": "6ac4a73d",
   "metadata": {},
   "outputs": [],
   "source": [
    "def extracting_amenities(amenities_dict,description):\n",
    "    description = pre_processing_words(description)\n",
    "    amenities = []\n",
    "    for amen in amenities_dict.keys():\n",
    "        if amen in description:\n",
    "            amenities.append(amenities_dict[amen])\n",
    "    return amenities"
   ]
  },
  {
   "cell_type": "markdown",
   "id": "c21d6fcf",
   "metadata": {},
   "source": [
    "### Give description and amenites dictionary it finds out the amenities in the description"
   ]
  },
  {
   "cell_type": "code",
   "execution_count": 8,
   "id": "0885c353",
   "metadata": {
    "collapsed": true
   },
   "outputs": [
    {
     "data": {
      "text/plain": [
       "['Housekeeping',\n",
       " 'Laundry',\n",
       " 'Laundry Service',\n",
       " 'Television',\n",
       " 'Wi-fi',\n",
       " 'Wi-Fi Internet access',\n",
       " 'Cards',\n",
       " 'Hot/cold Water',\n",
       " 'Dry Cleaning',\n",
       " 'Telephone',\n",
       " 'Wi-Fi Internet',\n",
       " 'Credit cards accepted',\n",
       " 'Doctor on call',\n",
       " 'Internet access',\n",
       " 'ac',\n",
       " 'Airport Transfer',\n",
       " 'Phone']"
      ]
     },
     "execution_count": 8,
     "metadata": {},
     "output_type": "execute_result"
    }
   ],
   "source": [
    "extracting_amenities(amenities_dict,df.property_description[0])"
   ]
  },
  {
   "cell_type": "markdown",
   "id": "7ccac044",
   "metadata": {},
   "source": [
    "### Evaluation"
   ]
  },
  {
   "cell_type": "code",
   "execution_count": 13,
   "id": "77df46b1",
   "metadata": {},
   "outputs": [],
   "source": [
    "def split_sentences(string_to_iterate):\n",
    "    all_sents = []\n",
    "    char_index = 0\n",
    "\n",
    "    while char_index < len(string_to_iterate)-1:        \n",
    "        if (string_to_iterate[char_index].islower() and string_to_iterate[char_index+1].isupper()) or (string_to_iterate[char_index]==')' and string_to_iterate[char_index+1].isupper()) or (string_to_iterate[char_index].islower() and string_to_iterate[char_index+1].isdigit()) or (string_to_iterate[char_index]== ')' and string_to_iterate[char_index+1].isdigit()):\n",
    "            all_sents.append(string_to_iterate[:char_index+1])\n",
    "            string_to_iterate = string_to_iterate[char_index+1:]\n",
    "            char_index = 0\n",
    "        else:\n",
    "            char_index = char_index+1\n",
    "\n",
    "    if len(string_to_iterate):\n",
    "        all_sents.append(string_to_iterate)\n",
    "\n",
    "    \n",
    "    return all_sents\n",
    "\n",
    "\n",
    "def process_amenities(hotel_amenities):\n",
    "    all_amenities = hotel_amenities.split('|')\n",
    "    all_amenities = [amen.strip() for amen in all_amenities]\n",
    "    \n",
    "    new_amen_list = []\n",
    "    for amen in set(all_amenities):\n",
    "        processed_new_list = []\n",
    "        all_words = split_sentences(amen)\n",
    "        i = 0\n",
    "        while i < len(all_words):\n",
    "            if len(all_words) > 1:\n",
    "                try:\n",
    "                    if 'Wi' in all_words[i] and 'Fi' in all_words[i+1]:\n",
    "                        processed_new_list.append(all_words[i]+all_words[i+1])\n",
    "                        del all_words[i+1]\n",
    "                        i = i+1\n",
    "\n",
    "                    else:\n",
    "                        processed_new_list.append(all_words[i])\n",
    "                        i = i+1\n",
    "\n",
    "                except:\n",
    "                    i = i+1\n",
    "                \n",
    "            else:\n",
    "                processed_new_list.append(all_words[i])\n",
    "                i = i+1\n",
    "    \n",
    "        new_amen_list.append(processed_new_list)\n",
    "    \n",
    "    return new_amen_list\n"
   ]
  },
  {
   "cell_type": "code",
   "execution_count": 10,
   "id": "06293282",
   "metadata": {},
   "outputs": [],
   "source": [
    "df['extracted_amenities'] = df.property_description.apply(lambda x : extracting_amenities(amenities_dict,x))"
   ]
  },
  {
   "cell_type": "code",
   "execution_count": 14,
   "id": "b627da3b",
   "metadata": {},
   "outputs": [],
   "source": [
    "df['all_hotel_amenities'] = df.hotel_ameneties.apply(lambda x : [a for sublist in process_amenities(x) for a in sublist])"
   ]
  },
  {
   "cell_type": "code",
   "execution_count": 30,
   "id": "f8b6d109",
   "metadata": {},
   "outputs": [],
   "source": [
    "def evaluate_string_match_approach(given_amenities, extracted_amenities):\n",
    "    den = len(given_amenities)\n",
    "    processed_given_amen = [pre_processing_words(i) for i in given_amenities]\n",
    "    sum_a = 0\n",
    "    for amen in extracted_amenities:\n",
    "        if pre_processing_words(amen) in processed_given_amen:\n",
    "            sum_a = sum_a+1\n",
    "        else:\n",
    "            continue\n",
    "            \n",
    "    return sum_a/den"
   ]
  },
  {
   "cell_type": "code",
   "execution_count": 31,
   "id": "b15c5fd4",
   "metadata": {},
   "outputs": [],
   "source": [
    "df['evaluation_num'] = df.apply(lambda x : evaluate_string_match_approach(x['all_hotel_amenities'],x['extracted_amenities']),axis=1)"
   ]
  },
  {
   "cell_type": "code",
   "execution_count": 34,
   "id": "7f1adfc0",
   "metadata": {},
   "outputs": [
    {
     "name": "stdout",
     "output_type": "stream",
     "text": [
      "Performance : 34.73111984069456\n"
     ]
    }
   ],
   "source": [
    "print('Performance'+' : '+str(df['evaluation_num'].mean()*100))"
   ]
  },
  {
   "cell_type": "code",
   "execution_count": null,
   "id": "fe574770",
   "metadata": {},
   "outputs": [],
   "source": []
  }
 ],
 "metadata": {
  "kernelspec": {
   "display_name": "Python 3 (ipykernel)",
   "language": "python",
   "name": "python3"
  },
  "language_info": {
   "codemirror_mode": {
    "name": "ipython",
    "version": 3
   },
   "file_extension": ".py",
   "mimetype": "text/x-python",
   "name": "python",
   "nbconvert_exporter": "python",
   "pygments_lexer": "ipython3",
   "version": "3.10.3"
  }
 },
 "nbformat": 4,
 "nbformat_minor": 5
}
