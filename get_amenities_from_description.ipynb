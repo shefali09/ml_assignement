{
 "cells": [
  {
   "cell_type": "markdown",
   "id": "d8a5b56e",
   "metadata": {},
   "source": [
    "### Notebook to test the approach of getting amenties from description\n",
    "\n",
    "#### Please run all the cells to find the amenities via 2 methods : string search and ner method\n",
    "##### given_desc_find_amenties_string_match : requires amenities dictionary present in the same repository and the descriptio itself\n",
    "##### given_desc_find_amenties_ner : this requires model object present in the same repository and the description \n",
    "\n",
    "##### Note : NER method has not been explored and experimented completely "
   ]
  },
  {
   "cell_type": "code",
   "execution_count": 11,
   "id": "adbb27c2",
   "metadata": {},
   "outputs": [],
   "source": [
    "import pandas as pd\n",
    "import re\n",
    "import spacy\n",
    "import string\n",
    "import pickle\n",
    "from nltk.corpus import stopwords\n",
    "from nltk.stem import WordNetLemmatizer\n",
    " \n",
    "lemmatizer = WordNetLemmatizer()"
   ]
  },
  {
   "cell_type": "code",
   "execution_count": 14,
   "id": "9cb058b2",
   "metadata": {},
   "outputs": [],
   "source": [
    "### Loading dataset [This could be changed to your own dataset]\n",
    "df = pd.read_csv('assignment_hotel_training.csv')"
   ]
  },
  {
   "cell_type": "code",
   "execution_count": 3,
   "id": "98e0ae4b",
   "metadata": {},
   "outputs": [],
   "source": [
    "### General processing of sentences : \n",
    "regex = re.compile('[%s]' % re.escape(string.punctuation))\n",
    "def pre_processing_words(sent):\n",
    "    ## Removing punctuations,extra spaces,striping ,lowering,removing stop words,lemmatize\n",
    "    new_sent = regex.sub('', sent)\n",
    "    new_sent = re.sub(' +',' ',new_sent).strip().lower()\n",
    "    text_tokens = new_sent.split()\n",
    "    tokens_without_sw = [lemmatizer.lemmatize(word) for word in text_tokens if not word in stopwords.words('english')]\n",
    "    final_sent = ' '.join(tokens_without_sw)\n",
    "    \n",
    "    return final_sent"
   ]
  },
  {
   "cell_type": "code",
   "execution_count": 4,
   "id": "ad23a5fa",
   "metadata": {},
   "outputs": [],
   "source": [
    "### Processing property description\n",
    "def process_description(desc):\n",
    "    all_desc = desc.split('|')\n",
    "    all_desc = [re.sub(r'\\.(?!\\d)', '_',d).split('_') for d in all_desc]\n",
    "    all_desc_sentences = [pre_processing_words(a).strip() for sublist in all_desc for a in sublist]\n",
    "    all_desc_sentences = [i for i in all_desc_sentences if i != '']\n",
    "    return all_desc_sentences"
   ]
  },
  {
   "cell_type": "markdown",
   "id": "73bd6f37",
   "metadata": {},
   "source": [
    "### Function to find amenities via NER approach"
   ]
  },
  {
   "cell_type": "code",
   "execution_count": 5,
   "id": "5796a496",
   "metadata": {},
   "outputs": [],
   "source": [
    "def given_desc_find_amenties_ner(description,nlp_model):\n",
    "    description = process_description(description)\n",
    "    \n",
    "    final_amenities = []\n",
    "    for desc in description:\n",
    "        doc2 = nlp_model(desc)\n",
    "        temp = []\n",
    "        for ent in doc2.ents:\n",
    "            temp.append(ent.text)\n",
    "            \n",
    "        final_amenities.append(temp)\n",
    "        \n",
    "    final_amenities = '|'.join(list(set([a for sublist in final_amenities for a in sublist])))\n",
    "    \n",
    "    return final_amenities"
   ]
  },
  {
   "cell_type": "markdown",
   "id": "69d2a25d",
   "metadata": {},
   "source": [
    "### Function to find amenities via string match approach"
   ]
  },
  {
   "cell_type": "code",
   "execution_count": 6,
   "id": "74eea137",
   "metadata": {},
   "outputs": [],
   "source": [
    "def given_desc_find_amenties_string_match(amenities_dict,description):\n",
    "    description = pre_processing_words(description)\n",
    "    amenities = []\n",
    "    for amen in amenities_dict.keys():\n",
    "        if amen in description:\n",
    "            amenities.append(amenities_dict[amen])\n",
    "    return amenities"
   ]
  },
  {
   "cell_type": "markdown",
   "id": "052e7f16",
   "metadata": {},
   "source": [
    "### Finding amenities from amenities dictionary"
   ]
  },
  {
   "cell_type": "code",
   "execution_count": 13,
   "id": "c9de315e",
   "metadata": {},
   "outputs": [
    {
     "data": {
      "text/plain": [
       "'Credit cards accepted|Airport Transfer|Hot & Cold water|Internet access|Doctor on Call|Television|Dry Cleaning|Phone|Telephone|Laundry|ac|WiFi|Laundry Service|WiFi Internet|Fi Internet|Cards|Housekeeping'"
      ]
     },
     "execution_count": 13,
     "metadata": {},
     "output_type": "execute_result"
    }
   ],
   "source": [
    "with open('amenities_dictionary.pkl', 'rb') as f:\n",
    "    amenities_dict = pickle.load(f)\n",
    "\n",
    "'|'.join(given_desc_find_amenties_string_match(amenities_dict,df['property_description'][0]))\n"
   ]
  },
  {
   "cell_type": "markdown",
   "id": "7100d030",
   "metadata": {},
   "source": [
    "### NER Approach"
   ]
  },
  {
   "cell_type": "code",
   "execution_count": 9,
   "id": "04009ba7",
   "metadata": {
    "scrolled": true
   },
   "outputs": [
    {
     "data": {
      "text/plain": [
       "'laundry service|airport transfer|credit card accepted|telephone|television|dry cleaning|hot cold water|doctor call|wifi internet|housekeeping'"
      ]
     },
     "execution_count": 9,
     "metadata": {},
     "output_type": "execute_result"
    }
   ],
   "source": [
    "nlp_model = spacy.load(\"output/model-last/\") \n",
    "given_desc_find_amenties_ner(df['property_description'][0],nlp_model)"
   ]
  },
  {
   "cell_type": "code",
   "execution_count": null,
   "id": "2c258461",
   "metadata": {},
   "outputs": [],
   "source": []
  }
 ],
 "metadata": {
  "kernelspec": {
   "display_name": "Python 3 (ipykernel)",
   "language": "python",
   "name": "python3"
  },
  "language_info": {
   "codemirror_mode": {
    "name": "ipython",
    "version": 3
   },
   "file_extension": ".py",
   "mimetype": "text/x-python",
   "name": "python",
   "nbconvert_exporter": "python",
   "pygments_lexer": "ipython3",
   "version": "3.10.3"
  }
 },
 "nbformat": 4,
 "nbformat_minor": 5
}
