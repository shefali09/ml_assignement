{
 "cells": [
  {
   "cell_type": "markdown",
   "id": "1aaa1ad5",
   "metadata": {},
   "source": [
    "### Description : \n",
    "##### The code below takes in the description and amenities as the input file and consolidates all the similar amenities into one\n",
    "\n",
    "### Approach : \n",
    "##### 1. Found all unique amenities from the amenties column\n",
    "##### 2. Descriptive analysis of the amenities and manually processing the data showed that there were many amenities which were joined together and needed processing : For example : Safety Deposit BoxMini Refrigerator have 2 different amenities attached to it which is \"Safety Deposit Box\" and \"Mini Refrigerator\"\n",
    "##### 3. Pre-processed such amenities to separate them and then found the unique amenities from them.\n",
    "##### 4. Pre-Processed each of theme amenities by removing punctuations, extra spaces, removing spaces at end , lowering and lemmatization\n",
    "##### 5. Found vector representation of these processed words using spacy pre-trained model 'en_core_web_lg' model, giving a vector representation of 30Dim for each word\n",
    "##### 6. Found Cosine similarity between all of these amenities to find a number between [0-1] to form a matrix\n",
    "##### 7. Experimented with different threshold values of the similarity which is  0.80,0.85,0.90,0.95\n",
    "##### 8. Manual analysis of the amenities and its corresponding similar words , chose 0.85 as the threshold value\n",
    "#####  Examples :  'Breakfast buffet' : ['Breakfast buffet','Complimentary Breakfast', 'breakfast','Breakfast Buffet', 'Breakfast Room', 'Continental breakfast','Continental Breakfast', 'Restaurant (buffet)'] as results\n",
    "\n",
    "#### Evaluation : Manually looked into the final list of consolidated amenities"
   ]
  },
  {
   "cell_type": "markdown",
   "id": "2a80bf2d",
   "metadata": {},
   "source": [
    "### Other approaches : \n",
    "##### Train embedding model on hotel description to get word embeddings of all the amenities and then do a similarity matrix \n",
    "##### Need more experimentation on embedding size and also various other approache of embedding models like word2vec,glove,fasttext,BERT etc..\n",
    "\n",
    "### Challenges : \n",
    "##### Dealing with Acronyms : For example TV is Television but they are different words right now\n",
    "##### Some cases where there is a mixing of Amenities together like TVHot & Cold water (mixed together) , not able to separate them \n",
    "##### Phrase detection , right now the approach is take embeddings of all words and just average them out but the algo can perform better if we are able to find the phrases first and then train the model"
   ]
  },
  {
   "cell_type": "code",
   "execution_count": null,
   "id": "eebd1493",
   "metadata": {},
   "outputs": [],
   "source": [
    "# !pip3 install -U pip setuptools wheel\n",
    "# !pip3 install -U spacy\n",
    "# !python3 -m spacy download en_core_web_lg"
   ]
  },
  {
   "cell_type": "markdown",
   "id": "c4690793",
   "metadata": {},
   "source": [
    "#### Import Libraries"
   ]
  },
  {
   "cell_type": "code",
   "execution_count": 1,
   "id": "f81a63b9",
   "metadata": {},
   "outputs": [],
   "source": [
    "import pandas as pd\n",
    "import spacy\n",
    "import re\n",
    "import string\n",
    "import numpy as np\n",
    "from collections import Counter\n",
    "import scipy.spatial as sp\n",
    "from nltk.corpus import stopwords\n",
    "from nltk.stem import WordNetLemmatizer\n",
    " \n",
    "lemmatizer = WordNetLemmatizer()\n",
    "nlp = spacy.load('en_core_web_lg')"
   ]
  },
  {
   "cell_type": "markdown",
   "id": "5cbe305a",
   "metadata": {},
   "source": [
    "#### Reading Data"
   ]
  },
  {
   "cell_type": "code",
   "execution_count": 2,
   "id": "9db8dad6",
   "metadata": {},
   "outputs": [],
   "source": [
    "df = pd.read_csv('assignment_hotel_training.csv')\n",
    "df['hotel_ameneties_words'] = df.hotel_ameneties.apply(lambda x : x.split('|'))"
   ]
  },
  {
   "cell_type": "code",
   "execution_count": 3,
   "id": "49733e39",
   "metadata": {
    "collapsed": true
   },
   "outputs": [
    {
     "data": {
      "text/html": [
       "<div>\n",
       "<style scoped>\n",
       "    .dataframe tbody tr th:only-of-type {\n",
       "        vertical-align: middle;\n",
       "    }\n",
       "\n",
       "    .dataframe tbody tr th {\n",
       "        vertical-align: top;\n",
       "    }\n",
       "\n",
       "    .dataframe thead th {\n",
       "        text-align: right;\n",
       "    }\n",
       "</style>\n",
       "<table border=\"1\" class=\"dataframe\">\n",
       "  <thead>\n",
       "    <tr style=\"text-align: right;\">\n",
       "      <th></th>\n",
       "      <th>hotel_ameneties</th>\n",
       "      <th>property_description</th>\n",
       "      <th>hotel_ameneties_words</th>\n",
       "    </tr>\n",
       "  </thead>\n",
       "  <tbody>\n",
       "    <tr>\n",
       "      <th>0</th>\n",
       "      <td>Hot &amp; Cold water|Credit cards accepted|Airpor...</td>\n",
       "      <td>New Soul Kiss Group of Houseboats |New Soul Ki...</td>\n",
       "      <td>[ Hot &amp; Cold water, Credit cards accepted, Air...</td>\n",
       "    </tr>\n",
       "    <tr>\n",
       "      <th>1</th>\n",
       "      <td>Hot/cold Water |Parking Facility| Shower Area...</td>\n",
       "      <td>Hotel Raj International |Hotel Raj Internation...</td>\n",
       "      <td>[ Hot/cold Water , Parking Facility,  Shower A...</td>\n",
       "    </tr>\n",
       "    <tr>\n",
       "      <th>2</th>\n",
       "      <td>Backup generator|Indoor Multi Cuisine Restaura...</td>\n",
       "      <td>Avisa Nila Beach Resort | Avisa Nila Beach Res...</td>\n",
       "      <td>[Backup generator, Indoor Multi Cuisine Restau...</td>\n",
       "    </tr>\n",
       "    <tr>\n",
       "      <th>3</th>\n",
       "      <td>Business centre|WiFiBathroom Toiletries |Baker...</td>\n",
       "      <td>Mayflower Hotel |Occupying a prime location on...</td>\n",
       "      <td>[Business centre, WiFiBathroom Toiletries , Ba...</td>\n",
       "    </tr>\n",
       "    <tr>\n",
       "      <th>4</th>\n",
       "      <td>Dining Table|Geyser In Bathroom|Bathroom Toile...</td>\n",
       "      <td>The Zara Residency Hotel Located in the heart ...</td>\n",
       "      <td>[Dining Table, Geyser In Bathroom, Bathroom To...</td>\n",
       "    </tr>\n",
       "  </tbody>\n",
       "</table>\n",
       "</div>"
      ],
      "text/plain": [
       "                                     hotel_ameneties  \\\n",
       "0   Hot & Cold water|Credit cards accepted|Airpor...   \n",
       "1   Hot/cold Water |Parking Facility| Shower Area...   \n",
       "2  Backup generator|Indoor Multi Cuisine Restaura...   \n",
       "3  Business centre|WiFiBathroom Toiletries |Baker...   \n",
       "4  Dining Table|Geyser In Bathroom|Bathroom Toile...   \n",
       "\n",
       "                                property_description  \\\n",
       "0  New Soul Kiss Group of Houseboats |New Soul Ki...   \n",
       "1  Hotel Raj International |Hotel Raj Internation...   \n",
       "2  Avisa Nila Beach Resort | Avisa Nila Beach Res...   \n",
       "3  Mayflower Hotel |Occupying a prime location on...   \n",
       "4  The Zara Residency Hotel Located in the heart ...   \n",
       "\n",
       "                               hotel_ameneties_words  \n",
       "0  [ Hot & Cold water, Credit cards accepted, Air...  \n",
       "1  [ Hot/cold Water , Parking Facility,  Shower A...  \n",
       "2  [Backup generator, Indoor Multi Cuisine Restau...  \n",
       "3  [Business centre, WiFiBathroom Toiletries , Ba...  \n",
       "4  [Dining Table, Geyser In Bathroom, Bathroom To...  "
      ]
     },
     "execution_count": 3,
     "metadata": {},
     "output_type": "execute_result"
    }
   ],
   "source": [
    "df.head()"
   ]
  },
  {
   "cell_type": "code",
   "execution_count": 4,
   "id": "52dcec6c",
   "metadata": {},
   "outputs": [],
   "source": [
    "all_amenities = df.hotel_ameneties_words.tolist()\n",
    "all_amenities = [a.strip() for b in all_amenities for a in b]"
   ]
  },
  {
   "cell_type": "markdown",
   "id": "f3aa2f8e",
   "metadata": {},
   "source": [
    "#### Analysis on amenities"
   ]
  },
  {
   "cell_type": "code",
   "execution_count": 5,
   "id": "0d08bcd5",
   "metadata": {},
   "outputs": [],
   "source": [
    "amenities_df = pd.DataFrame.from_dict(Counter(all_amenities), orient='index').reset_index()\n",
    "amenities_df.columns = ['amenity','count']"
   ]
  },
  {
   "cell_type": "code",
   "execution_count": 6,
   "id": "c7ee61e5",
   "metadata": {
    "collapsed": true
   },
   "outputs": [
    {
     "data": {
      "text/html": [
       "<div>\n",
       "<style scoped>\n",
       "    .dataframe tbody tr th:only-of-type {\n",
       "        vertical-align: middle;\n",
       "    }\n",
       "\n",
       "    .dataframe tbody tr th {\n",
       "        vertical-align: top;\n",
       "    }\n",
       "\n",
       "    .dataframe thead th {\n",
       "        text-align: right;\n",
       "    }\n",
       "</style>\n",
       "<table border=\"1\" class=\"dataframe\">\n",
       "  <thead>\n",
       "    <tr style=\"text-align: right;\">\n",
       "      <th></th>\n",
       "      <th>amenity</th>\n",
       "      <th>count</th>\n",
       "    </tr>\n",
       "  </thead>\n",
       "  <tbody>\n",
       "    <tr>\n",
       "      <th>11</th>\n",
       "      <td>Doctor on Call</td>\n",
       "      <td>5830</td>\n",
       "    </tr>\n",
       "    <tr>\n",
       "      <th>5</th>\n",
       "      <td>Laundry Service</td>\n",
       "      <td>4443</td>\n",
       "    </tr>\n",
       "    <tr>\n",
       "      <th>13</th>\n",
       "      <td>Parking Facility</td>\n",
       "      <td>4165</td>\n",
       "    </tr>\n",
       "    <tr>\n",
       "      <th>6</th>\n",
       "      <td>Room Service</td>\n",
       "      <td>3528</td>\n",
       "    </tr>\n",
       "    <tr>\n",
       "      <th>30</th>\n",
       "      <td>Attached Bathroom</td>\n",
       "      <td>3446</td>\n",
       "    </tr>\n",
       "    <tr>\n",
       "      <th>12</th>\n",
       "      <td>Hot/cold Water</td>\n",
       "      <td>3163</td>\n",
       "    </tr>\n",
       "    <tr>\n",
       "      <th>18</th>\n",
       "      <td>Bathroom Toiletries</td>\n",
       "      <td>3110</td>\n",
       "    </tr>\n",
       "    <tr>\n",
       "      <th>7</th>\n",
       "      <td>Television</td>\n",
       "      <td>3082</td>\n",
       "    </tr>\n",
       "    <tr>\n",
       "      <th>52</th>\n",
       "      <td>Restaurant</td>\n",
       "      <td>3050</td>\n",
       "    </tr>\n",
       "    <tr>\n",
       "      <th>33</th>\n",
       "      <td>Air Conditioning</td>\n",
       "      <td>2391</td>\n",
       "    </tr>\n",
       "  </tbody>\n",
       "</table>\n",
       "</div>"
      ],
      "text/plain": [
       "                amenity  count\n",
       "11       Doctor on Call   5830\n",
       "5       Laundry Service   4443\n",
       "13     Parking Facility   4165\n",
       "6          Room Service   3528\n",
       "30    Attached Bathroom   3446\n",
       "12       Hot/cold Water   3163\n",
       "18  Bathroom Toiletries   3110\n",
       "7            Television   3082\n",
       "52           Restaurant   3050\n",
       "33     Air Conditioning   2391"
      ]
     },
     "execution_count": 6,
     "metadata": {},
     "output_type": "execute_result"
    }
   ],
   "source": [
    "## Top 10 amenities\n",
    "amenities_df.sort_values('count',ascending=False).head(10)"
   ]
  },
  {
   "cell_type": "code",
   "execution_count": 7,
   "id": "be786f37",
   "metadata": {
    "collapsed": true
   },
   "outputs": [
    {
     "data": {
      "text/html": [
       "<div>\n",
       "<style scoped>\n",
       "    .dataframe tbody tr th:only-of-type {\n",
       "        vertical-align: middle;\n",
       "    }\n",
       "\n",
       "    .dataframe tbody tr th {\n",
       "        vertical-align: top;\n",
       "    }\n",
       "\n",
       "    .dataframe thead th {\n",
       "        text-align: right;\n",
       "    }\n",
       "</style>\n",
       "<table border=\"1\" class=\"dataframe\">\n",
       "  <thead>\n",
       "    <tr style=\"text-align: right;\">\n",
       "      <th></th>\n",
       "      <th>amenity</th>\n",
       "      <th>count</th>\n",
       "    </tr>\n",
       "  </thead>\n",
       "  <tbody>\n",
       "    <tr>\n",
       "      <th>1742</th>\n",
       "      <td>CinemaDaily Newspaper</td>\n",
       "      <td>1</td>\n",
       "    </tr>\n",
       "    <tr>\n",
       "      <th>1743</th>\n",
       "      <td>Tour assistanceTelevision</td>\n",
       "      <td>1</td>\n",
       "    </tr>\n",
       "    <tr>\n",
       "      <th>1747</th>\n",
       "      <td>Video Game ArcadeTelephone</td>\n",
       "      <td>1</td>\n",
       "    </tr>\n",
       "    <tr>\n",
       "      <th>1749</th>\n",
       "      <td>Wi-Fi Internet accessClub Lounge Access</td>\n",
       "      <td>1</td>\n",
       "    </tr>\n",
       "    <tr>\n",
       "      <th>1754</th>\n",
       "      <td>Free parking (limited spaces)Hot/cold Water</td>\n",
       "      <td>1</td>\n",
       "    </tr>\n",
       "    <tr>\n",
       "      <th>1755</th>\n",
       "      <td>Air conditioningTelephone</td>\n",
       "      <td>1</td>\n",
       "    </tr>\n",
       "    <tr>\n",
       "      <th>1762</th>\n",
       "      <td>Outdoor pool (all year)Telephone</td>\n",
       "      <td>1</td>\n",
       "    </tr>\n",
       "    <tr>\n",
       "      <th>1767</th>\n",
       "      <td>Room service (24 hours)Cable T V</td>\n",
       "      <td>1</td>\n",
       "    </tr>\n",
       "    <tr>\n",
       "      <th>1769</th>\n",
       "      <td>Yoga ClassisTea/Coffee Maker</td>\n",
       "      <td>1</td>\n",
       "    </tr>\n",
       "    <tr>\n",
       "      <th>2380</th>\n",
       "      <td>Parking FacilityIroning Board</td>\n",
       "      <td>1</td>\n",
       "    </tr>\n",
       "  </tbody>\n",
       "</table>\n",
       "</div>"
      ],
      "text/plain": [
       "                                          amenity  count\n",
       "1742                        CinemaDaily Newspaper      1\n",
       "1743                    Tour assistanceTelevision      1\n",
       "1747                   Video Game ArcadeTelephone      1\n",
       "1749      Wi-Fi Internet accessClub Lounge Access      1\n",
       "1754  Free parking (limited spaces)Hot/cold Water      1\n",
       "1755                    Air conditioningTelephone      1\n",
       "1762             Outdoor pool (all year)Telephone      1\n",
       "1767             Room service (24 hours)Cable T V      1\n",
       "1769                 Yoga ClassisTea/Coffee Maker      1\n",
       "2380                Parking FacilityIroning Board      1"
      ]
     },
     "execution_count": 7,
     "metadata": {},
     "output_type": "execute_result"
    }
   ],
   "source": [
    "## Bottom 10 amenities\n",
    "amenities_df.sort_values('count',ascending=False).tail(10)"
   ]
  },
  {
   "cell_type": "code",
   "execution_count": 9,
   "id": "26c9bcff",
   "metadata": {},
   "outputs": [
    {
     "name": "stdout",
     "output_type": "stream",
     "text": [
      "Unique amenities: 2381\n"
     ]
    }
   ],
   "source": [
    "### Unique amenities \n",
    "print('Unique amenities: '+str(len(set(all_amenities))))"
   ]
  },
  {
   "cell_type": "markdown",
   "id": "6e986b5c",
   "metadata": {},
   "source": [
    "#### Processing[removing punctuations,spaces,stripping,lowering, removing stopwords and lemmatization] along with Processing of the amenities list to form a unqiue list where the amenities are separated\n"
   ]
  },
  {
   "cell_type": "code",
   "execution_count": 10,
   "id": "ce5aadb5",
   "metadata": {},
   "outputs": [],
   "source": [
    "remove = string.punctuation\n",
    "regex = re.compile('[%s]' % re.escape(remove))\n",
    "\n",
    "def pre_processing_words(sent):\n",
    "    ## Removing punctuations, extra spaces, striping,lowering, stopwords and lemmatization\n",
    "    new_sent = regex.sub(' ', sent)\n",
    "    new_sent = re.sub(' +',' ',new_sent).strip().lower()\n",
    "    text_tokens = new_sent.split()\n",
    "    tokens_without_sw = [lemmatizer.lemmatize(word) for word in text_tokens if not word in stopwords.words('english')]\n",
    "    final_sent = ' '.join(tokens_without_sw)\n",
    "    \n",
    "    return new_sent"
   ]
  },
  {
   "cell_type": "code",
   "execution_count": 11,
   "id": "ca8669b4",
   "metadata": {},
   "outputs": [],
   "source": [
    "def split_sentences(string_to_iterate):\n",
    "    all_sents = []\n",
    "    char_index = 0\n",
    "\n",
    "    while char_index < len(string_to_iterate)-1:        \n",
    "        if (string_to_iterate[char_index].islower() and string_to_iterate[char_index+1].isupper()) or (string_to_iterate[char_index]==')' and string_to_iterate[char_index+1].isupper()) or (string_to_iterate[char_index].islower() and string_to_iterate[char_index+1].isdigit()) or (string_to_iterate[char_index]== ')' and string_to_iterate[char_index+1].isdigit()):\n",
    "            all_sents.append(string_to_iterate[:char_index+1])\n",
    "            string_to_iterate = string_to_iterate[char_index+1:]\n",
    "            char_index = 0\n",
    "        else:\n",
    "            char_index = char_index+1\n",
    "\n",
    "    if len(string_to_iterate):\n",
    "        all_sents.append(string_to_iterate)\n",
    "        \n",
    "        \n",
    "    return all_sents\n",
    "\n",
    "\n",
    "new_amen_list = []\n",
    "for amen in set(all_amenities):\n",
    "    processed_new_list = []\n",
    "    all_words = split_sentences(amen)\n",
    "    \n",
    "    i = 0\n",
    "    while i < len(all_words):\n",
    "        if len(all_words) > 1:\n",
    "            try:\n",
    "                if 'Wi' in all_words[i] and 'Fi' in all_words[i+1]:\n",
    "                    processed_new_list.append(all_words[i]+all_words[i+1])\n",
    "                    del all_words[i+1]\n",
    "                    i = i+1\n",
    "                    \n",
    "                else:\n",
    "                    processed_new_list.append(all_words[i])\n",
    "                    i = i+1\n",
    "            \n",
    "            except:\n",
    "                i = i+1\n",
    "                \n",
    "            \n",
    "        else:\n",
    "            processed_new_list.append(all_words[i])\n",
    "            i = i+1\n",
    "    \n",
    "    new_amen_list.append(processed_new_list)\n",
    "\n",
    "new_amen_list = list(set([amen for sublist in new_amen_list for amen in sublist]))   \n"
   ]
  },
  {
   "cell_type": "code",
   "execution_count": 13,
   "id": "b40ae359",
   "metadata": {},
   "outputs": [],
   "source": [
    "### Removing some amenities which seems irrelavant\n",
    "new_amen_list.remove('i')\n",
    "new_amen_list.remove('Ãƒ')\n",
    "new_amen_list.remove('Ã‚Â©')\n",
    "new_amen_list.remove('H')"
   ]
  },
  {
   "cell_type": "code",
   "execution_count": 14,
   "id": "cc69c97b",
   "metadata": {},
   "outputs": [
    {
     "name": "stdout",
     "output_type": "stream",
     "text": [
      "Unique amenities: 1391\n"
     ]
    }
   ],
   "source": [
    "### Unique amenities after pocessing\n",
    "print('Unique amenities: '+str(len(set(new_amen_list))))"
   ]
  },
  {
   "cell_type": "markdown",
   "id": "fa3b49a5",
   "metadata": {},
   "source": [
    "#### Finding Vector Matrix for each unique amenity in the new list"
   ]
  },
  {
   "cell_type": "code",
   "execution_count": 15,
   "id": "6a15c34a",
   "metadata": {
    "scrolled": true
   },
   "outputs": [],
   "source": [
    "word_embeddings = {}\n",
    "word_embeddings_array = []\n",
    "for amen in set(new_amen_list):\n",
    "    if amen == '':\n",
    "        continue\n",
    "    else:\n",
    "        word_embeddings[amen] =  nlp(pre_processing_words(amen)).vector\n",
    "        word_embeddings_array.append(nlp(pre_processing_words(amen)).vector)"
   ]
  },
  {
   "cell_type": "markdown",
   "id": "0e7625a5",
   "metadata": {},
   "source": [
    "#### Finding the Cosine Similarity between each of the vectors"
   ]
  },
  {
   "cell_type": "code",
   "execution_count": 16,
   "id": "877596c6",
   "metadata": {},
   "outputs": [],
   "source": [
    "word_embeddings_array = np.array(word_embeddings_array)\n",
    "similarity_scores = 1 - sp.distance.cdist(word_embeddings_array, word_embeddings_array, 'cosine')"
   ]
  },
  {
   "cell_type": "code",
   "execution_count": 17,
   "id": "029c0fce",
   "metadata": {},
   "outputs": [],
   "source": [
    "#### Putting similar words with different threshold value into pandas dataframe for manual analysis\n",
    "similarity_scores_df = pd.DataFrame(similarity_scores,columns=word_embeddings.keys(),index=word_embeddings.keys())\n",
    "similarity_scores_df_80 = similarity_scores_df.apply(lambda row: list(row[row >= 0.8].index), axis=1)\n",
    "similarity_scores_df_85 = similarity_scores_df.apply(lambda row: list(row[row >= 0.85].index), axis=1)\n",
    "similarity_scores_df_90 = similarity_scores_df.apply(lambda row: list(row[row >= 0.9].index), axis=1)\n",
    "similarity_scores_df_95 = similarity_scores_df.apply(lambda row: list(row[row >= 0.95].index), axis=1)\n",
    "\n",
    "similarity_scores_df['similarity_scores_80'] = similarity_scores_df_80\n",
    "similarity_scores_df['similarity_scores_85'] = similarity_scores_df_85\n",
    "similarity_scores_df['similarity_scores_90'] = similarity_scores_df_90\n",
    "similarity_scores_df['similarity_scores_95'] = similarity_scores_df_95"
   ]
  },
  {
   "cell_type": "code",
   "execution_count": 18,
   "id": "0e13404d",
   "metadata": {},
   "outputs": [
    {
     "data": {
      "text/html": [
       "<div>\n",
       "<style scoped>\n",
       "    .dataframe tbody tr th:only-of-type {\n",
       "        vertical-align: middle;\n",
       "    }\n",
       "\n",
       "    .dataframe tbody tr th {\n",
       "        vertical-align: top;\n",
       "    }\n",
       "\n",
       "    .dataframe thead th {\n",
       "        text-align: right;\n",
       "    }\n",
       "</style>\n",
       "<table border=\"1\" class=\"dataframe\">\n",
       "  <thead>\n",
       "    <tr style=\"text-align: right;\">\n",
       "      <th></th>\n",
       "      <th>similarity_scores_80</th>\n",
       "      <th>similarity_scores_85</th>\n",
       "      <th>similarity_scores_90</th>\n",
       "      <th>similarity_scores_95</th>\n",
       "    </tr>\n",
       "  </thead>\n",
       "  <tbody>\n",
       "    <tr>\n",
       "      <th>Private Beach Area</th>\n",
       "      <td>[Private Beach Area, Private beach, Beach Near...</td>\n",
       "      <td>[Private Beach Area, Private beach]</td>\n",
       "      <td>[Private Beach Area, Private beach]</td>\n",
       "      <td>[Private Beach Area]</td>\n",
       "    </tr>\n",
       "    <tr>\n",
       "      <th>Sun Beds (pool)</th>\n",
       "      <td>[Sun Beds (pool), Sun Terrace, Pool Terrace, S...</td>\n",
       "      <td>[Sun Beds (pool), Sun Beds, Sun beds]</td>\n",
       "      <td>[Sun Beds (pool), Sun Beds, Sun beds]</td>\n",
       "      <td>[Sun Beds (pool)]</td>\n",
       "    </tr>\n",
       "    <tr>\n",
       "      <th>Private check in/out</th>\n",
       "      <td>[Private check in/out, Express Check-In/Check-...</td>\n",
       "      <td>[Private check in/out, Express Check-In/Check-...</td>\n",
       "      <td>[Private check in/out]</td>\n",
       "      <td>[Private check in/out]</td>\n",
       "    </tr>\n",
       "    <tr>\n",
       "      <th>Wired high-speed Internet access (surcharge)</th>\n",
       "      <td>[Wired high-speed Internet access (surcharge),...</td>\n",
       "      <td>[Wired high-speed Internet access (surcharge),...</td>\n",
       "      <td>[Wired high-speed Internet access (surcharge),...</td>\n",
       "      <td>[Wired high-speed Internet access (surcharge),...</td>\n",
       "    </tr>\n",
       "    <tr>\n",
       "      <th>Breakfast available (surcharge)</th>\n",
       "      <td>[Breakfast available (surcharge), Parking limi...</td>\n",
       "      <td>[Breakfast available (surcharge)]</td>\n",
       "      <td>[Breakfast available (surcharge)]</td>\n",
       "      <td>[Breakfast available (surcharge)]</td>\n",
       "    </tr>\n",
       "    <tr>\n",
       "      <th>...</th>\n",
       "      <td>...</td>\n",
       "      <td>...</td>\n",
       "      <td>...</td>\n",
       "      <td>...</td>\n",
       "    </tr>\n",
       "    <tr>\n",
       "      <th>Half board rates available</th>\n",
       "      <td>[Half board rates available, Full board rates ...</td>\n",
       "      <td>[Half board rates available, Full board rates ...</td>\n",
       "      <td>[Half board rates available, Full board rates ...</td>\n",
       "      <td>[Half board rates available]</td>\n",
       "    </tr>\n",
       "    <tr>\n",
       "      <th>Electronic Key</th>\n",
       "      <td>[Electronic Key, Electronic/magnetic keys]</td>\n",
       "      <td>[Electronic Key]</td>\n",
       "      <td>[Electronic Key]</td>\n",
       "      <td>[Electronic Key]</td>\n",
       "    </tr>\n",
       "    <tr>\n",
       "      <th>Mountain biking</th>\n",
       "      <td>[Mountain biking, Hiking/biking trails, Hiking]</td>\n",
       "      <td>[Mountain biking, Hiking/biking trails]</td>\n",
       "      <td>[Mountain biking, Hiking/biking trails]</td>\n",
       "      <td>[Mountain biking]</td>\n",
       "    </tr>\n",
       "    <tr>\n",
       "      <th>Complimentary Airport/Railway Station Transfer</th>\n",
       "      <td>[Complimentary Airport/Railway Station Transfe...</td>\n",
       "      <td>[Complimentary Airport/Railway Station Transfe...</td>\n",
       "      <td>[Complimentary Airport/Railway Station Transfe...</td>\n",
       "      <td>[Complimentary Airport/Railway Station Transfe...</td>\n",
       "    </tr>\n",
       "    <tr>\n",
       "      <th>Room Service 24 Hrs</th>\n",
       "      <td>[24 hour reception, Room service (24 hours), R...</td>\n",
       "      <td>[24 hour reception, Room service (24 hours), 2...</td>\n",
       "      <td>[Room service (24 hours), 24 hour room service...</td>\n",
       "      <td>[Room service (24 hours), 24 hour room service...</td>\n",
       "    </tr>\n",
       "  </tbody>\n",
       "</table>\n",
       "<p>100 rows × 4 columns</p>\n",
       "</div>"
      ],
      "text/plain": [
       "                                                                             similarity_scores_80  \\\n",
       "Private Beach Area                              [Private Beach Area, Private beach, Beach Near...   \n",
       "Sun Beds (pool)                                 [Sun Beds (pool), Sun Terrace, Pool Terrace, S...   \n",
       "Private check in/out                            [Private check in/out, Express Check-In/Check-...   \n",
       "Wired high-speed Internet access (surcharge)    [Wired high-speed Internet access (surcharge),...   \n",
       "Breakfast available (surcharge)                 [Breakfast available (surcharge), Parking limi...   \n",
       "...                                                                                           ...   \n",
       "Half board rates available                      [Half board rates available, Full board rates ...   \n",
       "Electronic Key                                         [Electronic Key, Electronic/magnetic keys]   \n",
       "Mountain biking                                   [Mountain biking, Hiking/biking trails, Hiking]   \n",
       "Complimentary Airport/Railway Station Transfer  [Complimentary Airport/Railway Station Transfe...   \n",
       "Room Service 24 Hrs                             [24 hour reception, Room service (24 hours), R...   \n",
       "\n",
       "                                                                             similarity_scores_85  \\\n",
       "Private Beach Area                                            [Private Beach Area, Private beach]   \n",
       "Sun Beds (pool)                                             [Sun Beds (pool), Sun Beds, Sun beds]   \n",
       "Private check in/out                            [Private check in/out, Express Check-In/Check-...   \n",
       "Wired high-speed Internet access (surcharge)    [Wired high-speed Internet access (surcharge),...   \n",
       "Breakfast available (surcharge)                                 [Breakfast available (surcharge)]   \n",
       "...                                                                                           ...   \n",
       "Half board rates available                      [Half board rates available, Full board rates ...   \n",
       "Electronic Key                                                                   [Electronic Key]   \n",
       "Mountain biking                                           [Mountain biking, Hiking/biking trails]   \n",
       "Complimentary Airport/Railway Station Transfer  [Complimentary Airport/Railway Station Transfe...   \n",
       "Room Service 24 Hrs                             [24 hour reception, Room service (24 hours), 2...   \n",
       "\n",
       "                                                                             similarity_scores_90  \\\n",
       "Private Beach Area                                            [Private Beach Area, Private beach]   \n",
       "Sun Beds (pool)                                             [Sun Beds (pool), Sun Beds, Sun beds]   \n",
       "Private check in/out                                                       [Private check in/out]   \n",
       "Wired high-speed Internet access (surcharge)    [Wired high-speed Internet access (surcharge),...   \n",
       "Breakfast available (surcharge)                                 [Breakfast available (surcharge)]   \n",
       "...                                                                                           ...   \n",
       "Half board rates available                      [Half board rates available, Full board rates ...   \n",
       "Electronic Key                                                                   [Electronic Key]   \n",
       "Mountain biking                                           [Mountain biking, Hiking/biking trails]   \n",
       "Complimentary Airport/Railway Station Transfer  [Complimentary Airport/Railway Station Transfe...   \n",
       "Room Service 24 Hrs                             [Room service (24 hours), 24 hour room service...   \n",
       "\n",
       "                                                                             similarity_scores_95  \n",
       "Private Beach Area                                                           [Private Beach Area]  \n",
       "Sun Beds (pool)                                                                 [Sun Beds (pool)]  \n",
       "Private check in/out                                                       [Private check in/out]  \n",
       "Wired high-speed Internet access (surcharge)    [Wired high-speed Internet access (surcharge),...  \n",
       "Breakfast available (surcharge)                                 [Breakfast available (surcharge)]  \n",
       "...                                                                                           ...  \n",
       "Half board rates available                                           [Half board rates available]  \n",
       "Electronic Key                                                                   [Electronic Key]  \n",
       "Mountain biking                                                                 [Mountain biking]  \n",
       "Complimentary Airport/Railway Station Transfer  [Complimentary Airport/Railway Station Transfe...  \n",
       "Room Service 24 Hrs                             [Room service (24 hours), 24 hour room service...  \n",
       "\n",
       "[100 rows x 4 columns]"
      ]
     },
     "execution_count": 18,
     "metadata": {},
     "output_type": "execute_result"
    }
   ],
   "source": [
    "similarity_scores_df[['similarity_scores_80','similarity_scores_85','similarity_scores_90','similarity_scores_95']].head(100)\n"
   ]
  },
  {
   "cell_type": "code",
   "execution_count": 19,
   "id": "c8bc216c",
   "metadata": {},
   "outputs": [
    {
     "data": {
      "text/plain": [
       "['Free parking nearby',\n",
       " 'Free covered parking',\n",
       " 'Parking(free)',\n",
       " 'Free secure outdoor parking',\n",
       " 'Free garage parking',\n",
       " 'Free valet parking',\n",
       " 'Free outdoor parking',\n",
       " 'Parking garage',\n",
       " 'Free on-street parking',\n",
       " 'Free secure parking',\n",
       " 'Free Parking',\n",
       " 'Parking (free)',\n",
       " 'Free self parking']"
      ]
     },
     "execution_count": 19,
     "metadata": {},
     "output_type": "execute_result"
    }
   ],
   "source": [
    "similarity_scores_df[similarity_scores_df.index == 'Free garage parking' ]['similarity_scores_85'][0]"
   ]
  },
  {
   "cell_type": "code",
   "execution_count": 20,
   "id": "90c7e4dd",
   "metadata": {},
   "outputs": [
    {
     "data": {
      "text/plain": [
       "['TVHot/cold Water',\n",
       " 'Hot & Cold water',\n",
       " 'Hot Water',\n",
       " '24-hrs Hot & Cold Water',\n",
       " 'hot water',\n",
       " 'Hot & Cold Running Water',\n",
       " '24-hr Hot & Cold Water',\n",
       " 'Hot/cold Water',\n",
       " 'TVHot & Cold Running Water']"
      ]
     },
     "execution_count": 20,
     "metadata": {},
     "output_type": "execute_result"
    }
   ],
   "source": [
    "similarity_scores_df[similarity_scores_df.index == 'Hot & Cold water' ]['similarity_scores_85'][0]\n"
   ]
  },
  {
   "cell_type": "code",
   "execution_count": 21,
   "id": "95d9ad6b",
   "metadata": {},
   "outputs": [
    {
     "data": {
      "text/plain": [
       "['Continental Breakfast',\n",
       " 'Breakfast Buffet',\n",
       " 'Breakfast Room',\n",
       " 'Breakfast buffet',\n",
       " 'breakfast',\n",
       " 'Restaurant (buffet)',\n",
       " 'Complimentary Breakfast',\n",
       " 'Continental breakfast']"
      ]
     },
     "execution_count": 21,
     "metadata": {},
     "output_type": "execute_result"
    }
   ],
   "source": [
    "similarity_scores_df[similarity_scores_df.index == 'Breakfast buffet' ]['similarity_scores_85'][0]"
   ]
  },
  {
   "cell_type": "code",
   "execution_count": 22,
   "id": "8cd195fb",
   "metadata": {},
   "outputs": [],
   "source": [
    "### Output of similar words\n",
    "similarity_scores_df[['similarity_scores_80','similarity_scores_85','similarity_scores_90','similarity_scores_95']].to_csv('similar_words_processed_amenities_v2.csv')\n",
    "similarity_scores_df[['similarity_scores_85']].to_csv('similar_words_thresh85_processed_amenities_v2.csv')\n"
   ]
  }
 ],
 "metadata": {
  "kernelspec": {
   "display_name": "Python 3 (ipykernel)",
   "language": "python",
   "name": "python3"
  },
  "language_info": {
   "codemirror_mode": {
    "name": "ipython",
    "version": 3
   },
   "file_extension": ".py",
   "mimetype": "text/x-python",
   "name": "python",
   "nbconvert_exporter": "python",
   "pygments_lexer": "ipython3",
   "version": "3.10.3"
  }
 },
 "nbformat": 4,
 "nbformat_minor": 5
}
